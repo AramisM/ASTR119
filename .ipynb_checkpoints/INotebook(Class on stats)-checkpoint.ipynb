{
 "metadata": {
  "name": "",
  "signature": "sha256:dc9a9424a3ef096aea079746ee7f5e28b960a5db8d0dafe446b45320ee34a8df"
 },
 "nbformat": 3,
 "nbformat_minor": 0,
 "worksheets": []
}